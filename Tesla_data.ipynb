{
 "cells": [
  {
   "cell_type": "code",
   "execution_count": 1,
   "id": "b96303d3-8f2f-40fa-9cfe-d67750d92529",
   "metadata": {},
   "outputs": [
    {
     "name": "stderr",
     "output_type": "stream",
     "text": [
      "C:\\Users\\lenovo\\AppData\\Local\\Temp\\ipykernel_15084\\3013098640.py:5: FutureWarning: YF.download() has changed argument auto_adjust default to True\n",
      "  tesla_data = yf.download(\"TSLA\", period=\"max\")\n",
      "[*********************100%***********************]  1 of 1 completed\n",
      "C:\\Users\\lenovo\\AppData\\Local\\Temp\\ipykernel_15084\\3013098640.py:14: FutureWarning: YF.download() has changed argument auto_adjust default to True\n",
      "  gme_data = yf.download(\"GME\", period=\"max\")\n"
     ]
    },
    {
     "name": "stdout",
     "output_type": "stream",
     "text": [
      "Tesla Data - First 5 Rows:\n",
      "Price        Date     Close      High       Low      Open     Volume\n",
      "Ticker                 TSLA      TSLA      TSLA      TSLA       TSLA\n",
      "0      2010-06-29  1.592667  1.666667  1.169333  1.266667  281494500\n",
      "1      2010-06-30  1.588667  2.028000  1.553333  1.719333  257806500\n",
      "2      2010-07-01  1.464000  1.728000  1.351333  1.666667  123282000\n",
      "3      2010-07-02  1.280000  1.540000  1.247333  1.533333   77097000\n",
      "4      2010-07-06  1.074000  1.333333  1.055333  1.333333  103003500\n"
     ]
    },
    {
     "name": "stderr",
     "output_type": "stream",
     "text": [
      "[*********************100%***********************]  1 of 1 completed"
     ]
    },
    {
     "name": "stdout",
     "output_type": "stream",
     "text": [
      "\n",
      "GameStop Data - First 5 Rows:\n",
      "Price        Date     Close      High       Low      Open    Volume\n",
      "Ticker                  GME       GME       GME       GME       GME\n",
      "0      2002-02-13  1.691667  1.693350  1.603296  1.620128  76216000\n",
      "1      2002-02-14  1.683250  1.716074  1.670626  1.712707  11021600\n",
      "2      2002-02-15  1.674834  1.687458  1.658001  1.683250   8389600\n",
      "3      2002-02-19  1.607504  1.666418  1.578047  1.666418   7410400\n",
      "4      2002-02-20  1.662210  1.662210  1.603296  1.615920   6892800\n"
     ]
    },
    {
     "name": "stderr",
     "output_type": "stream",
     "text": [
      "\n"
     ]
    }
   ],
   "source": [
    "import yfinance as yf\n",
    "import pandas as pd\n",
    "\n",
    "# --- Tesla Stock Data ---\n",
    "tesla_data = yf.download(\"TSLA\", period=\"max\")\n",
    "tesla_data.reset_index(inplace=True)\n",
    "tesla_data.to_csv(\"tesla_data.csv\", index=False)\n",
    "\n",
    "print(\"Tesla Data - First 5 Rows:\")\n",
    "print(tesla_data.head())\n",
    "\n",
    "\n",
    "# --- GameStop Stock Data ---\n",
    "gme_data = yf.download(\"GME\", period=\"max\")\n",
    "gme_data.reset_index(inplace=True)\n",
    "gme_data.to_csv(\"gme_data.csv\", index=False)\n",
    "\n",
    "print(\"\\nGameStop Data - First 5 Rows:\")\n",
    "print(gme_data.head())"
   ]
  },
  {
   "cell_type": "code",
   "execution_count": null,
   "id": "2150e99a-aef0-4c11-befc-e411773f268c",
   "metadata": {},
   "outputs": [],
   "source": []
  }
 ],
 "metadata": {
  "kernelspec": {
   "display_name": "Python [conda env:base] *",
   "language": "python",
   "name": "conda-base-py"
  },
  "language_info": {
   "codemirror_mode": {
    "name": "ipython",
    "version": 3
   },
   "file_extension": ".py",
   "mimetype": "text/x-python",
   "name": "python",
   "nbconvert_exporter": "python",
   "pygments_lexer": "ipython3",
   "version": "3.13.5"
  }
 },
 "nbformat": 4,
 "nbformat_minor": 5
}
